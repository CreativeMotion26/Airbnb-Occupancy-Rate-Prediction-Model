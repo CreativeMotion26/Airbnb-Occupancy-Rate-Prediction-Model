{
  "cells": [
    {
      "cell_type": "markdown",
      "source": [
        "#**Airbnb Occupancy Rate Prediction Model**\n",
        "\n",
        "## Introduction\n",
        "In this project, it aims to predict the **occupancy rate** of Airbnb listings using machine learning regression techniques. This will allow us to estimate how often a property will be booked based on its attributes such as **price**, **location** and **avilability**.\n",
        "\n",
        "----\n",
        "## Steps for Solving a Regression Problem:\n",
        "1. **Find a suitable dataset:** Use Airbnb’s calendar dataset and listings dataset.\n",
        "\n",
        "2. **Data Preparation:** This includes cleaning up and transforming the data to make it suitable for model training.\n",
        "\n",
        "3. **Feature Engineering:** extract relevant features and calculate the target variable (occupancy rate).\n",
        "4. **Train-Test Split:** Split the data into training and testing sets.\n",
        "5. **Model Training:** Train the regressor using machine learning algorithms.\n",
        "6. **Model Evaluation:** Evaluate the performance of the trained model.\n",
        "7. **Prediction Results:** Use the model to predict occupancy rates for new or unseen listings."
      ],
      "metadata": {
        "id": "n6Abc3jS_taN"
      }
    },
    {
      "cell_type": "markdown",
      "source": [
        "# **Data Loading and Preprocessing**\n",
        "---\n",
        "## Loading the datasets\n",
        "begin by loading two datasets:\n",
        "\n",
        "\n",
        "\n",
        "*   **calendar_df:** Contains information about availability and prices over time for each listing.\n",
        "* **listings_df:** Contains the property details, such as location, property type, and reviews.\n",
        "\n",
        "\n"
      ],
      "metadata": {
        "id": "DiFVqTntAaSZ"
      }
    },
    {
      "cell_type": "code",
      "execution_count": null,
      "metadata": {
        "id": "PjX-eLwyRycj"
      },
      "outputs": [],
      "source": [
        "import pandas as pd\n",
        "import numpy as np\n",
        "import re\n",
        "from sklearn.model_selection import train_test_split, GridSearchCV, RandomizedSearchCV, cross_val_score\n",
        "from sklearn.preprocessing import StandardScaler\n",
        "from sklearn.impute import SimpleImputer\n",
        "from sklearn.ensemble import GradientBoostingRegressor, RandomForestRegressor\n",
        "from sklearn.linear_model import LinearRegression, Ridge\n",
        "from sklearn.metrics import (mean_squared_error, r2_score, mean_absolute_error,\n",
        "                             mean_squared_log_error, explained_variance_score,\n",
        "                             max_error, median_absolute_error)\n",
        "import matplotlib.pyplot as plt\n",
        "import seaborn as sns"
      ]
    },
    {
      "cell_type": "code",
      "execution_count": null,
      "metadata": {
        "id": "BJ2L4m94VgOP"
      },
      "outputs": [],
      "source": [
        "# Load the datasets with low_memory=False to avoid memory issues\n",
        "calendar_df = pd.read_csv('calendar.csv', low_memory=False)\n",
        "listings_df = pd.read_csv('listings.csv', low_memory=False)"
      ]
    },
    {
      "cell_type": "markdown",
      "source": [
        "Use the `pd.read_csv()` function from the `pandas` library to load the datasets into DataFrames.\n",
        "\n",
        "Setting `low_memory=False` prevents memory errors when loading large datasets.\n",
        "\n"
      ],
      "metadata": {
        "id": "nHDX7-pBEk1v"
      }
    },
    {
      "cell_type": "markdown",
      "source": [
        "### **Preprocessing the Data**\n",
        "----\n",
        "#### 1. Handling the availability column:\n",
        "* The `available` column in the `calendar_df` indicates whether a listing is available on a given date (`'t'` means available, `'f'` means occupied).\n",
        "\n",
        "* Map these values to binary numbers (1 for available and 0 for occupied) to facilitate calculations later.\n",
        "\n",
        "#### 2. Cleaning the price column:\n",
        "* The `price` column contains dollar signs and commas, so remove these and convert the price to a numerical format for future calculations.\n",
        "\n",
        "#### 3. Ensuring consistent data types:\n",
        "* To ensure the consistency between the `calendar_df` and `listings_df` DataFrames, convert the `listing_id` to string format in both DataFrames so we can merge them later."
      ],
      "metadata": {
        "id": "1AHbtaL5Eygv"
      }
    },
    {
      "cell_type": "code",
      "execution_count": null,
      "metadata": {
        "id": "yqbQjdJUL8Vk"
      },
      "outputs": [],
      "source": [
        "# Clean up the \"available\" column in calendar_df\n",
        "calendar_df['available'] = calendar_df['available'].map({'t': 1, 'f': 0})  # 't' means available, 'f' means occupied\n",
        "\n",
        "# Clean and convert price column\n",
        "calendar_df['price'] = calendar_df['price'].replace({'\\$': '', ',': ''}, regex=True).astype(float)\n",
        "calendar_df['price'] = pd.to_numeric(calendar_df['price'], errors='coerce')\n",
        "\n",
        "# Convert listing_id to a consistent data type\n",
        "calendar_df['listing_id'] = calendar_df['listing_id'].astype(str)\n",
        "listings_df['listing_id'] = listings_df['id'].astype(str)\n"
      ]
    },
    {
      "cell_type": "markdown",
      "source": [
        "# **Feature Enginnering**\n",
        "---\n",
        "###**Calculate Occupancy Rate**\n",
        "Calculate the occupancy rate for each listing toen a property is booked predict how oft, and, calculate the occupancy rate for each listing.\n",
        "\n",
        " This rate is computed as the number of days a listing is occupied divided by the total number of days it is listed.\n",
        "\n",
        " ---\n",
        " 1. **Aggregating the data:**\n",
        "\n",
        " * Group the calendar data by listing_id and calculate:\n",
        "\n",
        "  * `total_days`: The total number of days a listing is available in the dataset.\n",
        "  * `occupied_days`: The number of days the listing is occupied (`1 - available` because `available = 0` means occupied).\n",
        "\n",
        " 2. **Calculating occupancy rate:**\n",
        "\n",
        "* The occupancy rate is calculated as the percentage of days a listing is occupied.\n",
        "\n",
        "3. **Merge Occupancy Rate with Listings Data**"
      ],
      "metadata": {
        "id": "xEvqY2lZCKAV"
      }
    },
    {
      "cell_type": "code",
      "execution_count": null,
      "metadata": {
        "id": "EZS0tKZJVhaE"
      },
      "outputs": [],
      "source": [
        "# Calculate occupancy rate per listing\n",
        "occupancy_rate_df = calendar_df.groupby('listing_id').agg(\n",
        "    total_days=('available', 'count'),\n",
        "    occupied_days=('available', lambda x: (1 - x).sum())\n",
        ").reset_index()\n",
        "\n",
        "# Calculate occupancy rate\n",
        "occupancy_rate_df['occupancy_rate'] = (occupancy_rate_df['occupied_days'] / occupancy_rate_df['total_days']) * 100\n",
        "\n",
        "# Merge occupancy rate with the listings data\n",
        "merged_df = pd.merge(listings_df, occupancy_rate_df, on='listing_id', how='inner')\n"
      ]
    },
    {
      "cell_type": "markdown",
      "source": [
        "# **Data Preprocessing**\n",
        "\n",
        "---\n",
        "##1. Feature Selection and Cleanup\n",
        "For the regression model, select a subset of columns from the merged DataFrame that are relevant for predicting the occupancy rate. This includes property type, room type, price, location, and reviews.\n",
        "\n",
        "\n",
        "##2.  Handling Missing and Categorical Data\n",
        "Clean the `bathrooms_text` column by extracting numerical values, as this column may contain text descriptions like \"2 bathrooms\". Then, we handle missing values in the numerical columns by imputing the median.\n",
        "\n",
        "\n",
        "##3. Encode Categorical Variables\n",
        "encode categorical variables (property_type and room_type) using one-hot encoding and scale the numerical features for better performance in the model."
      ],
      "metadata": {
        "id": "hYOz6Ej4BVqb"
      }
    },
    {
      "cell_type": "code",
      "execution_count": null,
      "metadata": {
        "id": "TJh_8YBgxrWB"
      },
      "outputs": [],
      "source": [
        "# Adjusted list of columns to keep\n",
        "columns_to_keep = [\n",
        "    'listing_id', 'property_type', 'room_type', 'price', 'bedrooms',\n",
        "    'bathrooms_text', 'latitude', 'longitude', 'availability_365',\n",
        "    'reviews_per_month', 'minimum_nights', 'occupancy_rate'\n",
        "]\n",
        "\n",
        "merged_df['price'] = merged_df['price'].replace({'\\$': '', ',': ''}, regex=True).astype(float)\n",
        "\n",
        "# Keep only these columns\n",
        "cleaned_df = merged_df[columns_to_keep].copy()"
      ]
    },
    {
      "cell_type": "code",
      "execution_count": null,
      "metadata": {
        "id": "1Wuo2MjZS5PG"
      },
      "outputs": [],
      "source": [
        "# Check if 'bathrooms_text' is in the dataframe before attempting to clean it\n",
        "if 'bathrooms_text' in cleaned_df.columns:\n",
        "    # Extract numerical value from 'bathrooms_text' (if necessary)\n",
        "    def extract_bathrooms(bathroom_text):\n",
        "        if isinstance(bathroom_text, str):\n",
        "            match = re.search(r'(\\d+\\.?\\d*)', bathroom_text)\n",
        "            if match:\n",
        "                return float(match.group(1))\n",
        "        return np.nan\n",
        "\n",
        "    cleaned_df['bathrooms'] = cleaned_df['bathrooms_text'].apply(extract_bathrooms)\n",
        "    cleaned_df.drop(columns=['bathrooms_text'], inplace=True)  # Drop 'bathrooms_text' column\n"
      ]
    },
    {
      "cell_type": "code",
      "source": [
        "# Impute missing values for numerical features\n",
        "imputer = SimpleImputer(strategy='median')\n",
        "cleaned_df[['price', 'bedrooms', 'reviews_per_month', 'minimum_nights']] = imputer.fit_transform(cleaned_df[['price', 'bedrooms', 'reviews_per_month', 'minimum_nights']])\n",
        "\n",
        "# One-hot encode categorical variables\n",
        "cleaned_df = pd.get_dummies(cleaned_df, columns=['property_type', 'room_type'], drop_first=True)\n",
        "\n",
        "# Scale the numerical features\n",
        "scaler = StandardScaler()\n",
        "numerical_features = ['price', 'bedrooms', 'availability_365', 'reviews_per_month', 'minimum_nights']\n",
        "cleaned_df[numerical_features] = scaler.fit_transform(cleaned_df[numerical_features])"
      ],
      "metadata": {
        "id": "z2r2P9SPCzYj"
      },
      "execution_count": null,
      "outputs": []
    },
    {
      "cell_type": "markdown",
      "source": [
        "# **Train-Test Split and Define Features**\n",
        "---\n",
        "### **Define Feature and Target**\n",
        "* Define the input feature (`X` and the target variable (`y`). The target variable is the **occupancy rate**, while the features are property attributes such as price, bedrooms and reviews.\n",
        "\n",
        "### **Split Data into Training and Testing Sets**\n",
        "* Split the data into training and testing sets, with 80% of the data used for training the model and 20% used for evaluating the model's performance\n",
        "\n",
        "### **Handing Missing or Infinite Values**\n",
        "* Before training the model, replace infinite values with NaN and drop any rows with NaN values to ensure clean data.\n",
        "Also align the indices of `X_train`, `y_train`, `X_test`, and `y_test`."
      ],
      "metadata": {
        "id": "3mjisz-MC0Y4"
      }
    },
    {
      "cell_type": "code",
      "execution_count": null,
      "metadata": {
        "id": "RKyvKgEuW1gR"
      },
      "outputs": [],
      "source": [
        "# Define features (X) and target (y)\n",
        "X = cleaned_df.drop(columns=['listing_id', 'occupancy_rate'])  # Features\n",
        "y = cleaned_df['occupancy_rate']  # Target"
      ]
    },
    {
      "cell_type": "code",
      "execution_count": null,
      "metadata": {
        "id": "BNATqtN8W2pY"
      },
      "outputs": [],
      "source": [
        "# Split the data into training and testing sets (80% training, 20% testing)\n",
        "X_train, X_test, y_train, y_test = train_test_split(X, y, test_size=0.2, random_state=42)\n"
      ]
    },
    {
      "cell_type": "code",
      "execution_count": null,
      "metadata": {
        "id": "AX8IxB8RW2do"
      },
      "outputs": [],
      "source": [
        "# Replace infinite values with NaN and drop rows with NaN\n",
        "X_train_cleaned = X_train.replace([np.inf, -np.inf], np.nan).dropna()\n",
        "X_test_cleaned = X_test.replace([np.inf, -np.inf], np.nan).dropna()\n",
        "\n",
        "# Ensure y_train and y_test have no NaN values\n",
        "y_train_cleaned = y_train.loc[X_train_cleaned.index].fillna(0)\n",
        "y_test_cleaned = y_test.loc[X_test_cleaned.index].fillna(0)\n",
        "\n",
        "# Reset indices for alignment\n",
        "X_train_cleaned = X_train_cleaned.reset_index(drop=True)\n",
        "y_train_cleaned = y_train_cleaned.reset_index(drop=True)\n",
        "X_test_cleaned = X_test_cleaned.reset_index(drop=True)\n",
        "y_test_cleaned = y_test_cleaned.reset_index(drop=True)"
      ]
    },
    {
      "cell_type": "markdown",
      "source": [
        "# **Model Training and Hyperparameter Tuning**\n",
        "---\n",
        "### **Train Gradient Boosting Regressor**\n",
        "* Train a **Gradient Boosting Regressor** on the cleaned training data. GB is an ensemble that builds sequential models to correct errors made by previous models.\n",
        "\n",
        "### **Hyperparameter Tuning**\n",
        "* Optimise the hyperparameters of the model using **RandomisedSearchCV**, which speeds up the tuning process by testing random combinations of hyperparameters. This helps the model find the best model."
      ],
      "metadata": {
        "id": "-YmT07C3Wu47"
      }
    },
    {
      "cell_type": "code",
      "source": [
        "# Train a Gradient Boosting Regressor\n",
        "gbr = GradientBoostingRegressor(random_state=42)\n",
        "gbr.fit(X_train_cleaned, y_train_cleaned)\n",
        "\n",
        "# Optimised RandomizedSearchCV for faster tuning\n",
        "param_dist = {\n",
        "    'n_estimators': [100, 200, 300],\n",
        "    'learning_rate': [0.01, 0.1],\n",
        "    'max_depth': [3, 5, 7],\n",
        "    'min_samples_split': [2, 5],\n",
        "    'subsample': [0.8, 1.0]\n",
        "}\n",
        "random_search = RandomizedSearchCV(gbr, param_distributions=param_dist, n_iter=20, cv=3, n_jobs=-1, random_state=42)\n",
        "random_search.fit(X_train_cleaned, y_train_cleaned)\n",
        "\n",
        "# Best model and predictions\n",
        "best_gbr_model = random_search.best_estimator_\n",
        "y_pred = best_gbr_model.predict(X_test_cleaned)\n"
      ],
      "metadata": {
        "id": "WVx763sRAeHK"
      },
      "execution_count": null,
      "outputs": []
    },
    {
      "cell_type": "markdown",
      "source": [
        "# **Model Evaluation and Prediction**\n",
        "---\n",
        "### **Model Evaluation Metircs**\n",
        "After training the best model, evaluate its performance on the test set using several metrics, including:\n",
        "\n",
        "* Mean Squared Error (MSE)\n",
        "* Root Mean Squared Error (RMSE)\n",
        "* Mean Absolute Error (MAE)\n",
        "* R-squared (R²)\n",
        "* Adjusted R-squared (Adjusted R²)\n",
        "\n",
        "\n"
      ],
      "metadata": {
        "id": "DlYtB1ojYRip"
      }
    },
    {
      "cell_type": "code",
      "execution_count": null,
      "metadata": {
        "id": "2pw2wHLhXJMW",
        "colab": {
          "base_uri": "https://localhost:8080/"
        },
        "outputId": "f7280f93-e40c-4446-bf47-6702dba2e1df"
      },
      "outputs": [
        {
          "output_type": "stream",
          "name": "stdout",
          "text": [
            "Mean Squared Error (MSE): 0.027722734480940675\n",
            "Root Mean Squared Error (RMSE): 0.16650145489136325\n",
            "Mean Absolute Error (MAE): 0.02036965718179855\n",
            "R-squared (R²): 0.9999735102742793\n"
          ]
        }
      ],
      "source": [
        "# Evaluation metrics\n",
        "mse = mean_squared_error(y_test_cleaned, y_pred)\n",
        "rmse = np.sqrt(mse)\n",
        "mae = mean_absolute_error(y_test_cleaned, y_pred)\n",
        "r2 = r2_score(y_test_cleaned, y_pred)\n",
        "\n",
        "n = len(y_test_cleaned)\n",
        "p = X_test_cleaned.shape[1]\n",
        "adjusted_r2 = 1 - (1 - r2) * (n - 1) / (n - p - 1)\n",
        "\n",
        "# Print all metrics\n",
        "print(f\"Mean Squared Error (MSE): {mse}\")\n",
        "print(f\"Root Mean Squared Error (RMSE): {rmse}\")\n",
        "print(f\"Mean Absolute Error (MAE): {mae}\")\n",
        "print(f\"R-squared (R²): {r2}\")\n"
      ]
    },
    {
      "cell_type": "code",
      "source": [
        "# Display a comparison of actual vs predicted occupancy rates\n",
        "comparison_df = pd.DataFrame({\n",
        "    'Actual Occupancy Rate': y_test_cleaned,\n",
        "    'Predicted Occupancy Rate': y_pred\n",
        "})\n",
        "\n",
        "# Display the first 10 rows of the comparison\n",
        "print(comparison_df.head(10))"
      ],
      "metadata": {
        "colab": {
          "base_uri": "https://localhost:8080/"
        },
        "id": "naBWlA7PZLGS",
        "outputId": "e1dbf8f5-4deb-441f-ae94-6c80940cea00"
      },
      "execution_count": null,
      "outputs": [
        {
          "output_type": "stream",
          "name": "stdout",
          "text": [
            "   Actual Occupancy Rate  Predicted Occupancy Rate\n",
            "0              81.917808                 81.914227\n",
            "1              75.616438                 75.613903\n",
            "2               1.369863                  1.387166\n",
            "3               4.383562                  4.389320\n",
            "4              53.972603                 53.972828\n",
            "5              91.780822                 91.752305\n",
            "6              41.369863                 41.335380\n",
            "7              49.863014                 49.921695\n",
            "8              75.342466                 75.339811\n",
            "9              16.986301                 16.986834\n"
          ]
        }
      ]
    },
    {
      "cell_type": "code",
      "execution_count": null,
      "metadata": {
        "id": "9xBfBY9UW__C",
        "colab": {
          "base_uri": "https://localhost:8080/"
        },
        "outputId": "20b66abb-7028-433f-9c5c-72f6d8f5a435"
      },
      "outputs": [
        {
          "output_type": "stream",
          "name": "stdout",
          "text": [
            "Cross-Validation R-squared Scores: [0.99988189 0.99993973 0.99996484 0.99918035 0.99732724]\n",
            "Mean Cross-Validation R-squared: 0.9992588099628769\n"
          ]
        }
      ],
      "source": [
        "# Cross-Validation scores\n",
        "cv_scores = cross_val_score(best_gbr_model, X_train_cleaned, y_train_cleaned, cv=5, scoring='r2')\n",
        "print(f\"Cross-Validation R-squared Scores: {cv_scores}\")\n",
        "print(f\"Mean Cross-Validation R-squared: {cv_scores.mean()}\")"
      ]
    },
    {
      "cell_type": "markdown",
      "source": [
        "# **Visualisation**\n",
        "---\n",
        "### **Residuals Plot**\n",
        "Plot the residuals (the difference between actual and predicted occupancy rates) to check for any patterns that may indicate issues with the model's predictions.\n",
        "\n",
        "### **Predicted vs Actual Plot**\n",
        "This plot shows the predicted occupancy rates versus the actual occupancy rates. A perfect model would have all points lie on the diagonal line.\n",
        "\n",
        "\n"
      ],
      "metadata": {
        "id": "2B0MPKwvZRXa"
      }
    },
    {
      "cell_type": "code",
      "source": [
        "# Plot residuals\n",
        "plt.figure(figsize=(10,6))\n",
        "sns.scatterplot(x=y_test_cleaned, y=y_test_cleaned - y_pred)\n",
        "plt.axhline(0, color='red', linestyle='--')\n",
        "plt.xlabel('Actual Occupancy Rate')\n",
        "plt.ylabel('Residuals')\n",
        "plt.title('Residual Plot')\n",
        "plt.show()\n",
        "\n",
        "# Identify top residuals\n",
        "residuals = y_test_cleaned - y_pred\n",
        "top_residuals = residuals.abs().nlargest(10)\n",
        "print(\"Top 10 Residuals:\")\n",
        "print(top_residuals)"
      ],
      "metadata": {
        "colab": {
          "base_uri": "https://localhost:8080/",
          "height": 768
        },
        "outputId": "bbe69491-400c-4bd6-db37-17dc4dc1d674",
        "id": "BHo-kTVqYS1Y"
      },
      "execution_count": null,
      "outputs": [
        {
          "output_type": "display_data",
          "data": {
            "text/plain": [
              "<Figure size 1000x600 with 1 Axes>"
            ],
            "image/png": "[encoded data removed]"
          },
          "metadata": {}
        },
        {
          "output_type": "stream",
          "name": "stdout",
          "text": [
            "Top 10 Residuals:\n",
            "2633    5.169492\n",
            "2964    4.887835\n",
            "1839    4.239428\n",
            "931     3.069735\n",
            "1118    2.470309\n",
            "1352    1.275223\n",
            "205     0.714503\n",
            "2492    0.592060\n",
            "327     0.516950\n",
            "388     0.516014\n",
            "Name: occupancy_rate, dtype: float64\n"
          ]
        }
      ]
    },
    {
      "cell_type": "code",
      "source": [
        "# Visualize predicted vs actual\n",
        "plt.figure(figsize=(10,6))\n",
        "sns.scatterplot(x=y_test_cleaned, y=y_pred)\n",
        "plt.plot([y_test_cleaned.min(), y_test_cleaned.max()], [y_test_cleaned.min(), y_test_cleaned.max()], 'r--')\n",
        "plt.xlabel('Actual Occupancy Rate')\n",
        "plt.ylabel('Predicted Occupancy Rate')\n",
        "plt.title('Actual vs Predicted Occupancy Rates')\n",
        "plt.show()"
      ],
      "metadata": {
        "colab": {
          "base_uri": "https://localhost:8080/",
          "height": 564
        },
        "id": "p1_V7nATjaVS",
        "outputId": "9f572f80-9ae6-4dfb-f093-655f620a988e"
      },
      "execution_count": null,
      "outputs": [
        {
          "output_type": "display_data",
          "data": {
            "text/plain": [
              "<Figure size 1000x600 with 1 Axes>"
            ],
            "image/png": "[encoded data removed]"
          },
          "metadata": {}
        }
      ]
    },
    {
      "cell_type": "markdown",
      "source": [
        "# **Comparison Models**\n",
        "-----\n",
        "Compare to the performance\n",
        "- Random Forest Regressor model to train dataset. And find which models are more fitting for the task."
      ],
      "metadata": {
        "id": "nzr0zagseMCs"
      }
    },
    {
      "cell_type": "code",
      "source": [
        "# Random Forest Regressor\n",
        "rf_model = RandomForestRegressor(n_estimators=200, random_state=42)\n",
        "rf_model.fit(X_train_cleaned, y_train_cleaned)\n",
        "y_pred_rf = rf_model.predict(X_test_cleaned)\n",
        "\n",
        "# Evaluate Random Forest\n",
        "mse_rf = mean_squared_error(y_test_cleaned, y_pred_rf)\n",
        "r2_rf = r2_score(y_test_cleaned, y_pred_rf)\n",
        "print(f\"Mean Squared Error (Random Forest): {mse_rf}\")\n",
        "print(f\"R-squared (Random Forest): {r2_rf}\")"
      ],
      "metadata": {
        "colab": {
          "base_uri": "https://localhost:8080/"
        },
        "outputId": "4f054360-8924-4095-f6d6-e85d2b84d473",
        "id": "2eXl3fwqYS1a"
      },
      "execution_count": null,
      "outputs": [
        {
          "output_type": "stream",
          "name": "stdout",
          "text": [
            "Mean Squared Error (Random Forest): 0.02932344614154178\n",
            "R-squared (Random Forest): 0.9999719807565877\n"
          ]
        }
      ]
    }
  ],
  "metadata": {
    "colab": {
      "provenance": []
    },
    "kernelspec": {
      "display_name": "Python 3",
      "name": "python3"
    },
    "language_info": {
      "name": "python"
    }
  },
  "nbformat": 4,
  "nbformat_minor": 0
}